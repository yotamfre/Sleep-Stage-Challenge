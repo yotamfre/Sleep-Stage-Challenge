{
 "cells": [
  {
   "cell_type": "code",
   "execution_count": 1,
   "metadata": {},
   "outputs": [],
   "source": [
    "import torch\n",
    "\n",
    "features = torch.load('batched_data\\\\features')\n",
    "labels = torch.load('batched_data\\\\labels')"
   ]
  },
  {
   "cell_type": "code",
   "execution_count": 2,
   "metadata": {},
   "outputs": [
    {
     "name": "stdout",
     "output_type": "stream",
     "text": [
      "torch.Size([17280, 2])\n",
      "torch.Size([17280])\n"
     ]
    }
   ],
   "source": [
    "print(features[0].shape)\n",
    "print(labels[0].shape)"
   ]
  },
  {
   "cell_type": "code",
   "execution_count": 3,
   "metadata": {},
   "outputs": [],
   "source": [
    "import matplotlib.pyplot as plt\n",
    "\n",
    "def graph_enmo_from_torch(x, y):\n",
    "    if y[0] == 0:\n",
    "        event_at_change = 1\n",
    "    else:\n",
    "        event_at_change = 0\n",
    "    try:\n",
    "        event_index = (y == event_at_change).nonzero(as_tuple=True)[0][0]\n",
    "        len_30 = (30 * 60) // 5 \n",
    "\n",
    "        if event_index - len_30 < 0:\n",
    "            print(\"event too close to start of series\")\n",
    "            return\n",
    "\n",
    "\n",
    "        fig, ax1 = plt.subplots()\n",
    "        fig.set_size_inches(15, 5)\n",
    "\n",
    "        ax1.set_xlabel('step')\n",
    "        ax1.set_ylabel('enmo')\n",
    "        ax1.set_title('anglez and enmo vs step 30 minutes before and after event' )\n",
    "\n",
    "        domain = range(event_index - len_30, event_index + len_30)\n",
    "\n",
    "        ax1.plot(domain, x[event_index - len_30: event_index + len_30], color='g', label=\"enmo\")\n",
    "        ax1.legend()\n",
    "\n",
    "        ax1.tick_params(axis='y')\n",
    "        ax2 = ax1.twinx()\n",
    "\n",
    "        ax2.axvline(x=event_index, color='r', linestyle='--', label=\"event\")\n",
    "        ax2.legend()\n",
    "\n",
    "    except:\n",
    "        print(\"no event in this series\")\n",
    "        return"
   ]
  },
  {
   "cell_type": "code",
   "execution_count": 4,
   "metadata": {},
   "outputs": [],
   "source": [
    "def check_if_event_in_series(label):\n",
    "    start = label[0]\n",
    "    event_value = (start + 1) % 2\n",
    "    event_index = (label == event_value).nonzero(as_tuple=True)[0]\n",
    "    if len(event_index) == 0:\n",
    "        return 0\n",
    "    else:\n",
    "        return 1\n",
    "    "
   ]
  },
  {
   "cell_type": "code",
   "execution_count": 5,
   "metadata": {},
   "outputs": [
    {
     "name": "stderr",
     "output_type": "stream",
     "text": [
      "C:\\Users\\yotam\\AppData\\Local\\Temp\\ipykernel_16132\\3471831060.py:17: RuntimeWarning: More than 20 figures have been opened. Figures created through the pyplot interface (`matplotlib.pyplot.figure`) are retained until explicitly closed and may consume too much memory. (To control this warning, see the rcParam `figure.max_open_warning`). Consider using `matplotlib.pyplot.close()`.\n",
      "  fig, ax1 = plt.subplots()\n"
     ]
    },
    {
     "name": "stdout",
     "output_type": "stream",
     "text": [
      "no event in this series\n",
      "event too close to start of series\n",
      "no event in this series\n",
      "event too close to start of series\n",
      "event too close to start of series\n",
      "no event in this series\n",
      "event too close to start of series\n",
      "event too close to start of series\n",
      "event too close to start of series\n",
      "event too close to start of series\n",
      "event too close to start of series\n",
      "event too close to start of series\n",
      "event too close to start of series\n",
      "event too close to start of series\n",
      "event too close to start of series\n",
      "event too close to start of series\n",
      "event too close to start of series\n",
      "event too close to start of series\n",
      "event too close to start of series\n",
      "event too close to start of series\n",
      "event too close to start of series\n",
      "no event in this series\n",
      "event too close to start of series\n",
      "event too close to start of series\n",
      "no event in this series\n",
      "event too close to start of series\n",
      "event too close to start of series\n",
      "event too close to start of series\n",
      "event too close to start of series\n",
      "event too close to start of series\n",
      "no event in this series\n",
      "event too close to start of series\n",
      "event too close to start of series\n",
      "event too close to start of series\n",
      "event too close to start of series\n",
      "event too close to start of series\n",
      "event too close to start of series\n",
      "no event in this series\n",
      "no event in this series\n",
      "event too close to start of series\n",
      "event too close to start of series\n",
      "event too close to start of series\n",
      "event too close to start of series\n",
      "event too close to start of series\n",
      "event too close to start of series\n",
      "event too close to start of series\n",
      "event too close to start of series\n",
      "event too close to start of series\n",
      "event too close to start of series\n",
      "event too close to start of series\n",
      "event too close to start of series\n",
      "event too close to start of series\n",
      "event too close to start of series\n",
      "event too close to start of series\n",
      "event too close to start of series\n",
      "event too close to start of series\n",
      "event too close to start of series\n",
      "no event in this series\n",
      "event too close to start of series\n",
      "event too close to start of series\n",
      "no event in this series\n",
      "event too close to start of series\n",
      "event too close to start of series\n",
      "event too close to start of series\n",
      "event too close to start of series\n",
      "event too close to start of series\n",
      "event too close to start of series\n",
      "event too close to start of series\n",
      "event too close to start of series\n",
      "event too close to start of series\n",
      "event too close to start of series\n",
      "event too close to start of series\n",
      "event too close to start of series\n",
      "event too close to start of series\n",
      "event too close to start of series\n",
      "no event in this series\n",
      "no event in this series\n",
      "event too close to start of series\n",
      "event too close to start of series\n",
      "no event in this series\n",
      "event too close to start of series\n",
      "event too close to start of series\n",
      "event too close to start of series\n",
      "no event in this series\n",
      "event too close to start of series\n",
      "event too close to start of series\n",
      "event too close to start of series\n",
      "event too close to start of series\n",
      "event too close to start of series\n",
      "no event in this series\n",
      "event too close to start of series\n"
     ]
    }
   ],
   "source": [
    "import pandas as pd\n",
    "\n",
    "len_check = 30\n",
    "\n",
    "count = 0\n",
    "for i in range(len_check):\n",
    "    event_truth = check_if_event_in_series(labels[i])\n",
    "    count += event_truth\n",
    "\n",
    "    if event_truth == 1:\n",
    "        graph_enmo_from_torch(features[i], labels[i])\n",
    "\n",
    "print()\n",
    "print(count / len_check * 100, \"% of series have an event\")"
   ]
  }
 ],
 "metadata": {
  "kernelspec": {
   "display_name": "base",
   "language": "python",
   "name": "python3"
  },
  "language_info": {
   "codemirror_mode": {
    "name": "ipython",
    "version": 3
   },
   "file_extension": ".py",
   "mimetype": "text/x-python",
   "name": "python",
   "nbconvert_exporter": "python",
   "pygments_lexer": "ipython3",
   "version": "3.11.4"
  }
 },
 "nbformat": 4,
 "nbformat_minor": 2
}
