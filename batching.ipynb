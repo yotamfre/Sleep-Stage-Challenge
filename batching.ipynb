{
 "cells": [
  {
   "cell_type": "code",
   "execution_count": 1,
   "metadata": {},
   "outputs": [
    {
     "name": "stdout",
     "output_type": "stream",
     "text": [
      "              series_id    step                 timestamp     anglez    enmo\n",
      "0          038441c925bb       0  2018-08-14T15:30:00-0400   2.636700  0.0217\n",
      "1          038441c925bb       1  2018-08-14T15:30:05-0400   2.636800  0.0215\n",
      "2          038441c925bb       2  2018-08-14T15:30:10-0400   2.637000  0.0216\n",
      "3          038441c925bb       3  2018-08-14T15:30:15-0400   2.636800  0.0213\n",
      "4          038441c925bb       4  2018-08-14T15:30:20-0400   2.636800  0.0215\n",
      "...                 ...     ...                       ...        ...     ...\n",
      "127946335  fe90110788d2  592375  2017-09-08T00:14:35-0400 -27.277500  0.0204\n",
      "127946336  fe90110788d2  592376  2017-09-08T00:14:40-0400 -27.032499  0.0233\n",
      "127946337  fe90110788d2  592377  2017-09-08T00:14:45-0400 -26.841200  0.0202\n",
      "127946338  fe90110788d2  592378  2017-09-08T00:14:50-0400 -26.723900  0.0199\n",
      "127946339  fe90110788d2  592379  2017-09-08T00:14:55-0400 -31.521601  0.0205\n",
      "\n",
      "[127946340 rows x 5 columns]\n"
     ]
    }
   ],
   "source": [
    "import pandas as pd\n",
    "from data_path import data_path\n",
    "dataPath = data_path.dataPath\n",
    "\n",
    "data = pd.read_parquet(dataPath + 'train_series.parquet')\n",
    "stepsPerNight = 24 * 3600 // 5\n",
    "print(data)"
   ]
  },
  {
   "cell_type": "code",
   "execution_count": 2,
   "metadata": {},
   "outputs": [],
   "source": [
    "def getTimeFromTimestamp(timestamp):\n",
    "    sum = 0\n",
    "    sum += int(timestamp[:2]) * 3600\n",
    "    sum += int(timestamp[3:5]) * 60\n",
    "    sum += int(timestamp[6:8])\n",
    "    return sum\n",
    "\n",
    "def getTimestampFromTime(time):\n",
    "    hour = time // 3600\n",
    "    minute = (time - hour * 3600) // 60\n",
    "    second = time - hour * 3600 - minute * 60\n",
    "    return str(hour).zfill(2) + ':' + str(minute).zfill(2) + ':' + str(second).zfill(2)"
   ]
  },
  {
   "cell_type": "code",
   "execution_count": 5,
   "metadata": {},
   "outputs": [],
   "source": [
    "def getStartStep(data):\n",
    "    time415 = getTimeFromTimestamp(\"04:15:00\")  \n",
    "    timeStart = getTimeFromTimestamp(data['timestamp'][0][11:-5])\n",
    "\n",
    "    if timeStart < time415:\n",
    "        return (time415 - timeStart) // 5\n",
    "    else:\n",
    "        return ((getTimeFromTimestamp(\"24:00:00\") - timeStart) + time415) // 5"
   ]
  },
  {
   "cell_type": "code",
   "execution_count": 7,
   "metadata": {},
   "outputs": [
    {
     "name": "stdout",
     "output_type": "stream",
     "text": [
      "038441c925bb\n"
     ]
    }
   ],
   "source": [
    "#creats a list of shape(batch_size, context_length, 2)\n",
    "\n",
    "contextLength = getTimeFromTimestamp(\"08:00:00\") // 5\n",
    "array = []\n",
    "\n",
    "for person in data['series_id'].unique():\n",
    "    data_person = data[data['series_id'] == person]\n",
    "    data_person = data_person.reset_index()\n",
    "\n",
    "    startStep = getStartStep(data_person)\n",
    "    numDays = len(data_person) // stepsPerNight\n",
    "\n",
    "    for day in range(numDays - 1):\n",
    "        dayData = []\n",
    "        for step in range(startStep + (day * stepsPerNight), startStep + contextLength + (day * stepsPerNight)):\n",
    "            sequence = [data_person[\"anglez\"][step], data_person[\"enmo\"][step]]\n",
    "            dayData.append(sequence)\n",
    "\n",
    "        array.append(dayData)\n",
    "    \n",
    "    break\n"
   ]
  }
 ],
 "metadata": {
  "kernelspec": {
   "display_name": "base",
   "language": "python",
   "name": "python3"
  },
  "language_info": {
   "codemirror_mode": {
    "name": "ipython",
    "version": 3
   },
   "file_extension": ".py",
   "mimetype": "text/x-python",
   "name": "python",
   "nbconvert_exporter": "python",
   "pygments_lexer": "ipython3",
   "version": "3.11.4"
  }
 },
 "nbformat": 4,
 "nbformat_minor": 2
}
