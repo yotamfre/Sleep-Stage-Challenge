{
 "cells": [
  {
   "cell_type": "code",
   "execution_count": 14,
   "metadata": {},
   "outputs": [
    {
     "name": "stdout",
     "output_type": "stream",
     "text": [
      "              series_id    step                 timestamp     anglez    enmo\n",
      "0          038441c925bb       0  2018-08-14T15:30:00-0400   2.636700  0.0217\n",
      "1          038441c925bb       1  2018-08-14T15:30:05-0400   2.636800  0.0215\n",
      "2          038441c925bb       2  2018-08-14T15:30:10-0400   2.637000  0.0216\n",
      "3          038441c925bb       3  2018-08-14T15:30:15-0400   2.636800  0.0213\n",
      "4          038441c925bb       4  2018-08-14T15:30:20-0400   2.636800  0.0215\n",
      "...                 ...     ...                       ...        ...     ...\n",
      "127946335  fe90110788d2  592375  2017-09-08T00:14:35-0400 -27.277500  0.0204\n",
      "127946336  fe90110788d2  592376  2017-09-08T00:14:40-0400 -27.032499  0.0233\n",
      "127946337  fe90110788d2  592377  2017-09-08T00:14:45-0400 -26.841200  0.0202\n",
      "127946338  fe90110788d2  592378  2017-09-08T00:14:50-0400 -26.723900  0.0199\n",
      "127946339  fe90110788d2  592379  2017-09-08T00:14:55-0400 -31.521601  0.0205\n",
      "\n",
      "[127946340 rows x 5 columns]\n"
     ]
    }
   ],
   "source": [
    "import pandas as pd\n",
    "from data_path import data_path\n",
    "dataPath = data_path.dataPath\n",
    "\n",
    "data = pd.read_parquet(dataPath + 'train_series.parquet')\n",
    "stepsPerNight = 24 * 3600 // 5\n",
    "print(data)"
   ]
  },
  {
   "cell_type": "code",
   "execution_count": 15,
   "metadata": {},
   "outputs": [],
   "source": [
    "def getTimeFromTimestamp(timestamp):\n",
    "    sum = 0\n",
    "    sum += int(timestamp[:2]) * 3600\n",
    "    sum += int(timestamp[3:5]) * 60\n",
    "    sum += int(timestamp[6:8])\n",
    "    return sum\n",
    "\n",
    "def getTimestampFromTime(time):\n",
    "    hour = time // 3600\n",
    "    minute = (time - hour * 3600) // 60\n",
    "    second = time - hour * 3600 - minute * 60\n",
    "    return str(hour).zfill(2) + ':' + str(minute).zfill(2) + ':' + str(second).zfill(2)"
   ]
  },
  {
   "cell_type": "code",
   "execution_count": 16,
   "metadata": {},
   "outputs": [],
   "source": [
    "def getStartStep(data):\n",
    "    time415 = getTimeFromTimestamp(\"04:15:00\")  \n",
    "    timeStart = getTimeFromTimestamp(data['timestamp'][0][11:-5])\n",
    "\n",
    "    if timeStart < time415:\n",
    "        return (time415 - timeStart) // 5\n",
    "    else:\n",
    "        return ((getTimeFromTimestamp(\"24:00:00\") - timeStart) + time415) // 5"
   ]
  },
  {
   "cell_type": "code",
   "execution_count": 17,
   "metadata": {},
   "outputs": [],
   "source": [
    "people = set(data['series_id'])"
   ]
  },
  {
   "cell_type": "code",
   "execution_count": 18,
   "metadata": {},
   "outputs": [
    {
     "ename": "KeyError",
     "evalue": "483840",
     "output_type": "error",
     "traceback": [
      "\u001b[1;31m---------------------------------------------------------------------------\u001b[0m",
      "\u001b[1;31mValueError\u001b[0m                                Traceback (most recent call last)",
      "File \u001b[1;32mc:\\Users\\yotam\\anaconda3\\Lib\\site-packages\\pandas\\core\\indexes\\range.py:391\u001b[0m, in \u001b[0;36mRangeIndex.get_loc\u001b[1;34m(self, key, method, tolerance)\u001b[0m\n\u001b[0;32m    390\u001b[0m \u001b[39mtry\u001b[39;00m:\n\u001b[1;32m--> 391\u001b[0m     \u001b[39mreturn\u001b[39;00m \u001b[39mself\u001b[39m\u001b[39m.\u001b[39m_range\u001b[39m.\u001b[39mindex(new_key)\n\u001b[0;32m    392\u001b[0m \u001b[39mexcept\u001b[39;00m \u001b[39mValueError\u001b[39;00m \u001b[39mas\u001b[39;00m err:\n",
      "\u001b[1;31mValueError\u001b[0m: 483840 is not in range",
      "\nThe above exception was the direct cause of the following exception:\n",
      "\u001b[1;31mKeyError\u001b[0m                                  Traceback (most recent call last)",
      "\u001b[1;32mc:\\Users\\yotam\\OneDrive\\מסמכים\\GitHub\\Sleep-Stage-Challenge\\batching.ipynb Cell 5\u001b[0m line \u001b[0;36m1\n\u001b[0;32m     <a href='vscode-notebook-cell:/c%3A/Users/yotam/OneDrive/%D7%9E%D7%A1%D7%9E%D7%9B%D7%99%D7%9D/GitHub/Sleep-Stage-Challenge/batching.ipynb#W1sZmlsZQ%3D%3D?line=12'>13</a>\u001b[0m dayData \u001b[39m=\u001b[39m []\n\u001b[0;32m     <a href='vscode-notebook-cell:/c%3A/Users/yotam/OneDrive/%D7%9E%D7%A1%D7%9E%D7%9B%D7%99%D7%9D/GitHub/Sleep-Stage-Challenge/batching.ipynb#W1sZmlsZQ%3D%3D?line=13'>14</a>\u001b[0m \u001b[39mfor\u001b[39;00m step \u001b[39min\u001b[39;00m \u001b[39mrange\u001b[39m(startStep \u001b[39m+\u001b[39m (day \u001b[39m*\u001b[39m stepsPerNight), startStep \u001b[39m+\u001b[39m contextLength \u001b[39m+\u001b[39m (day \u001b[39m*\u001b[39m stepsPerNight) \u001b[39m-\u001b[39m \u001b[39m1\u001b[39m):\n\u001b[1;32m---> <a href='vscode-notebook-cell:/c%3A/Users/yotam/OneDrive/%D7%9E%D7%A1%D7%9E%D7%9B%D7%99%D7%9D/GitHub/Sleep-Stage-Challenge/batching.ipynb#W1sZmlsZQ%3D%3D?line=14'>15</a>\u001b[0m     sequence \u001b[39m=\u001b[39m [data_person[\u001b[39m\"\u001b[39m\u001b[39manglez\u001b[39m\u001b[39m\"\u001b[39m][step], data_person[\u001b[39m\"\u001b[39m\u001b[39menmo\u001b[39m\u001b[39m\"\u001b[39m][step]]\n\u001b[0;32m     <a href='vscode-notebook-cell:/c%3A/Users/yotam/OneDrive/%D7%9E%D7%A1%D7%9E%D7%9B%D7%99%D7%9D/GitHub/Sleep-Stage-Challenge/batching.ipynb#W1sZmlsZQ%3D%3D?line=15'>16</a>\u001b[0m     dayData\u001b[39m.\u001b[39mappend(sequence)\n\u001b[0;32m     <a href='vscode-notebook-cell:/c%3A/Users/yotam/OneDrive/%D7%9E%D7%A1%D7%9E%D7%9B%D7%99%D7%9D/GitHub/Sleep-Stage-Challenge/batching.ipynb#W1sZmlsZQ%3D%3D?line=17'>18</a>\u001b[0m array\u001b[39m.\u001b[39mappend(dayData)\n",
      "File \u001b[1;32mc:\\Users\\yotam\\anaconda3\\Lib\\site-packages\\pandas\\core\\series.py:981\u001b[0m, in \u001b[0;36mSeries.__getitem__\u001b[1;34m(self, key)\u001b[0m\n\u001b[0;32m    978\u001b[0m     \u001b[39mreturn\u001b[39;00m \u001b[39mself\u001b[39m\u001b[39m.\u001b[39m_values[key]\n\u001b[0;32m    980\u001b[0m \u001b[39melif\u001b[39;00m key_is_scalar:\n\u001b[1;32m--> 981\u001b[0m     \u001b[39mreturn\u001b[39;00m \u001b[39mself\u001b[39m\u001b[39m.\u001b[39m_get_value(key)\n\u001b[0;32m    983\u001b[0m \u001b[39mif\u001b[39;00m is_hashable(key):\n\u001b[0;32m    984\u001b[0m     \u001b[39m# Otherwise index.get_value will raise InvalidIndexError\u001b[39;00m\n\u001b[0;32m    985\u001b[0m     \u001b[39mtry\u001b[39;00m:\n\u001b[0;32m    986\u001b[0m         \u001b[39m# For labels that don't resolve as scalars like tuples and frozensets\u001b[39;00m\n",
      "File \u001b[1;32mc:\\Users\\yotam\\anaconda3\\Lib\\site-packages\\pandas\\core\\series.py:1089\u001b[0m, in \u001b[0;36mSeries._get_value\u001b[1;34m(self, label, takeable)\u001b[0m\n\u001b[0;32m   1086\u001b[0m     \u001b[39mreturn\u001b[39;00m \u001b[39mself\u001b[39m\u001b[39m.\u001b[39m_values[label]\n\u001b[0;32m   1088\u001b[0m \u001b[39m# Similar to Index.get_value, but we do not fall back to positional\u001b[39;00m\n\u001b[1;32m-> 1089\u001b[0m loc \u001b[39m=\u001b[39m \u001b[39mself\u001b[39m\u001b[39m.\u001b[39mindex\u001b[39m.\u001b[39mget_loc(label)\n\u001b[0;32m   1090\u001b[0m \u001b[39mreturn\u001b[39;00m \u001b[39mself\u001b[39m\u001b[39m.\u001b[39mindex\u001b[39m.\u001b[39m_get_values_for_loc(\u001b[39mself\u001b[39m, loc, label)\n",
      "File \u001b[1;32mc:\\Users\\yotam\\anaconda3\\Lib\\site-packages\\pandas\\core\\indexes\\range.py:393\u001b[0m, in \u001b[0;36mRangeIndex.get_loc\u001b[1;34m(self, key, method, tolerance)\u001b[0m\n\u001b[0;32m    391\u001b[0m         \u001b[39mreturn\u001b[39;00m \u001b[39mself\u001b[39m\u001b[39m.\u001b[39m_range\u001b[39m.\u001b[39mindex(new_key)\n\u001b[0;32m    392\u001b[0m     \u001b[39mexcept\u001b[39;00m \u001b[39mValueError\u001b[39;00m \u001b[39mas\u001b[39;00m err:\n\u001b[1;32m--> 393\u001b[0m         \u001b[39mraise\u001b[39;00m \u001b[39mKeyError\u001b[39;00m(key) \u001b[39mfrom\u001b[39;00m \u001b[39merr\u001b[39;00m\n\u001b[0;32m    394\u001b[0m \u001b[39mself\u001b[39m\u001b[39m.\u001b[39m_check_indexing_error(key)\n\u001b[0;32m    395\u001b[0m \u001b[39mraise\u001b[39;00m \u001b[39mKeyError\u001b[39;00m(key)\n",
      "\u001b[1;31mKeyError\u001b[0m: 483840"
     ]
    }
   ],
   "source": [
    "#creats a list of shape(batch_size, context_length, 2)\n",
    "\n",
    "contextLength = getTimeFromTimestamp(\"08:00:00\") // 5\n",
    "array = []\n",
    "for person in people:\n",
    "    data_person = data[data['series_id'] == person]\n",
    "    data_person = data_person.reset_index()\n",
    "\n",
    "    startStep = getStartStep(data_person)\n",
    "    numDays = len(data_person) // stepsPerNight\n",
    "\n",
    "    for day in range(numDays):\n",
    "        dayData = []\n",
    "        for step in range(startStep + (day * stepsPerNight), startStep + contextLength + (day * stepsPerNight) - 1):\n",
    "            sequence = [data_person[\"anglez\"][step], data_person[\"enmo\"][step]]\n",
    "            dayData.append(sequence)\n",
    "\n",
    "        array.append(dayData)\n"
   ]
  },
  {
   "cell_type": "code",
   "execution_count": null,
   "metadata": {},
   "outputs": [
    {
     "name": "stdout",
     "output_type": "stream",
     "text": [
      "17280\n",
      "4.068981481481481\n"
     ]
    }
   ],
   "source": [
    "contextLength = getTimeFromTimestamp(\"08:00:00\") // 5\n",
    "print(stepsPerNight)\n",
    "print((535500- 465188) / stepsPerNight)"
   ]
  }
 ],
 "metadata": {
  "kernelspec": {
   "display_name": "base",
   "language": "python",
   "name": "python3"
  },
  "language_info": {
   "codemirror_mode": {
    "name": "ipython",
    "version": 3
   },
   "file_extension": ".py",
   "mimetype": "text/x-python",
   "name": "python",
   "nbconvert_exporter": "python",
   "pygments_lexer": "ipython3",
   "version": "3.11.4"
  }
 },
 "nbformat": 4,
 "nbformat_minor": 2
}
