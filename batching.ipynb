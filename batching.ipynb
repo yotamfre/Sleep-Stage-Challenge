{
 "cells": [
  {
   "cell_type": "code",
   "execution_count": 2,
   "metadata": {},
   "outputs": [
    {
     "data": {
      "text/plain": [
       "61432"
      ]
     },
     "execution_count": 2,
     "metadata": {},
     "output_type": "execute_result"
    }
   ],
   "source": [
    "import datetime\n",
    "import calendar\n",
    "\n",
    "def timestamp_to_epcoch_day(timestamp):\n",
    "    if type(timestamp) is str:\n",
    "        timestamp = datetime.datetime.strptime(timestamp[0:-5], '%Y-%m-%dT%H:%M:%S')\n",
    "    return calendar.timegm(timestamp.timetuple()) % (3600 * 24)\n",
    "\n",
    "\n",
    "# Provide current timestamp\n",
    "timestamp = datetime.datetime.now()\n",
    "timestamp_to_epcoch_day(timestamp)"
   ]
  },
  {
   "cell_type": "code",
   "execution_count": 3,
   "metadata": {},
   "outputs": [
    {
     "ename": "NameError",
     "evalue": "name 'data_sample' is not defined",
     "output_type": "error",
     "traceback": [
      "\u001b[1;31m---------------------------------------------------------------------------\u001b[0m",
      "\u001b[1;31mNameError\u001b[0m                                 Traceback (most recent call last)",
      "Cell \u001b[1;32mIn[3], line 1\u001b[0m\n\u001b[1;32m----> 1\u001b[0m data_sample\u001b[38;5;241m.\u001b[39mtimestamp\u001b[38;5;241m.\u001b[39mapply(timestamp_to_epcoch_day)\n",
      "\u001b[1;31mNameError\u001b[0m: name 'data_sample' is not defined"
     ]
    }
   ],
   "source": [
    "data_sample.timestamp.apply(timestamp_to_epcoch_day)"
   ]
  },
  {
   "cell_type": "code",
   "execution_count": 4,
   "metadata": {},
   "outputs": [
    {
     "ename": "NameError",
     "evalue": "name 'data_sample' is not defined",
     "output_type": "error",
     "traceback": [
      "\u001b[1;31m---------------------------------------------------------------------------\u001b[0m",
      "\u001b[1;31mNameError\u001b[0m                                 Traceback (most recent call last)",
      "Cell \u001b[1;32mIn[4], line 1\u001b[0m\n\u001b[1;32m----> 1\u001b[0m data_sample\u001b[38;5;241m.\u001b[39mevent\u001b[38;5;241m.\u001b[39mvalue_counts()\n",
      "\u001b[1;31mNameError\u001b[0m: name 'data_sample' is not defined"
     ]
    }
   ],
   "source": [
    "data_sample.event.value_counts()"
   ]
  },
  {
   "cell_type": "code",
   "execution_count": 2,
   "metadata": {},
   "outputs": [],
   "source": [
    "def getTimeFromTimestamp(timestamp):\n",
    "    sum = 0\n",
    "    sum += int(timestamp[:2]) * 3600\n",
    "    sum += int(timestamp[3:5]) * 60\n",
    "    sum += int(timestamp[6:8])\n",
    "    return sum\n",
    "\n",
    "def getTimestampFromTime(time):\n",
    "    hour = time // 3600\n",
    "    minute = (time - hour * 3600) // 60\n",
    "    second = time - hour * 3600 - minute * 60\n",
    "    return str(hour).zfill(2) + ':' + str(minute).zfill(2) + ':' + str(second).zfill(2)"
   ]
  },
  {
   "cell_type": "code",
   "execution_count": 3,
   "metadata": {},
   "outputs": [],
   "source": [
    "def getStartStep(time):\n",
    "    time415 = getTimeFromTimestamp(\"04:15:00\")  \n",
    "    timeStart = getTimeFromTimestamp(time[11:-5])\n",
    "\n",
    "    if timeStart < time415:\n",
    "        return (time415 - timeStart) // 5\n",
    "    else:\n",
    "        return ((getTimeFromTimestamp(\"24:00:00\") - timeStart) + time415) // 5"
   ]
  },
  {
   "cell_type": "code",
   "execution_count": 13,
   "metadata": {},
   "outputs": [
    {
     "name": "stdout",
     "output_type": "stream",
     "text": [
      "1    1752.0\n",
      "Name: step, dtype: float64\n",
      "pass\n",
      "3    1032.0\n",
      "Name: step, dtype: float64\n",
      "pass\n",
      "5    660.0\n",
      "Name: step, dtype: float64\n",
      "pass\n",
      "7    1836.0\n",
      "Name: step, dtype: float64\n",
      "pass\n",
      "Series([], Name: step, dtype: float64)\n",
      "11    2280.0\n",
      "Name: step, dtype: float64\n",
      "pass\n",
      "13    5664.0\n",
      "Name: step, dtype: float64\n",
      "pass\n",
      "15    3192.0\n",
      "Name: step, dtype: float64\n",
      "pass\n",
      "Series([], Name: step, dtype: float64)\n",
      "19    2700.0\n",
      "Name: step, dtype: float64\n",
      "pass\n",
      "Series([], Name: step, dtype: float64)\n",
      "23    3012.0\n",
      "Name: step, dtype: float64\n",
      "pass\n",
      "25    2844.0\n",
      "Name: step, dtype: float64\n",
      "pass\n",
      "Series([], Name: step, dtype: float64)\n",
      "29    2604.0\n",
      "Name: step, dtype: float64\n",
      "pass\n",
      "31    1752.0\n",
      "Name: step, dtype: float64\n",
      "pass\n",
      "33    2112.0\n",
      "Name: step, dtype: float64\n",
      "pass\n",
      "35    2292.0\n",
      "Name: step, dtype: float64\n",
      "pass\n",
      "37    2376.0\n",
      "Name: step, dtype: float64\n",
      "pass\n",
      "39    1560.0\n",
      "Name: step, dtype: float64\n",
      "pass\n",
      "41    1164.0\n",
      "Name: step, dtype: float64\n",
      "pass\n"
     ]
    }
   ],
   "source": [
    "#creats a list of shape(batch_size, context_length, 2)\n",
    "\n",
    "stepsPerNight = 24 * 3600 // 5\n",
    "contextLength = getTimeFromTimestamp(\"08:00:00\") // 5\n",
    "array = []\n",
    "labelsArray = []\n",
    "\n",
    "for person in data['series_id'].unique():\n",
    "    data_person = data[data['series_id'] == person]\n",
    "    data_person = data_person.reset_index()\n",
    "\n",
    "    label_person = labels[labels['series_id'] == person]\n",
    "    label_person = label_person.reset_index()\n",
    "\n",
    "\n",
    "    startStep = getStartStep(data_person[\"timestamp\"][0])\n",
    "    numDays = len(data_person) // stepsPerNight\n",
    "\n",
    "\n",
    "    for day in range(numDays - 1):\n",
    "        nightLabel = label_person[(label_person['step'] > startStep + (day * stepsPerNight)) & (label_person['step'] < startStep + contextLength + (day * stepsPerNight))]\n",
    "        dayData = data[startStep + (day * stepsPerNight) : startStep + contextLength + (day * stepsPerNight)]\n",
    "\n",
    "        array.append([dayData[\"enmo\"], dayData[\"anglez\"]])\n",
    "\n",
    "        try:\n",
    "            labelsArray.append(float(nightLabel[\"step\"] - (startStep + stepsPerNight * day)))\n",
    "        except:\n",
    "            labelsArray.append(5759.0)\n",
    "\n",
    "\n",
    "    #only for debugging\n",
    "    #break\n",
    "    \n"
   ]
  },
  {
   "cell_type": "code",
   "execution_count": 11,
   "metadata": {},
   "outputs": [],
   "source": [
    "import numpy as np\n",
    "\n",
    "numpyData = np.array(array)\n",
    "numpyLabels = np.array(labelsArray)\n",
    "\n",
    "np.save(\"batched_data\\\\features\", numpyData)\n",
    "np.save(\"batched_data\\\\labels\", numpyLabels)\n"
   ]
  }
 ],
 "metadata": {
  "kernelspec": {
   "display_name": "base",
   "language": "python",
   "name": "python3"
  },
  "language_info": {
   "codemirror_mode": {
    "name": "ipython",
    "version": 3
   },
   "file_extension": ".py",
   "mimetype": "text/x-python",
   "name": "python",
   "nbconvert_exporter": "python",
   "pygments_lexer": "ipython3",
   "version": "3.11.4"
  }
 },
 "nbformat": 4,
 "nbformat_minor": 2
}
