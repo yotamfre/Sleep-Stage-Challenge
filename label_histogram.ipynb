{
 "cells": [
  {
   "cell_type": "code",
   "execution_count": 24,
   "metadata": {},
   "outputs": [
    {
     "name": "stdout",
     "output_type": "stream",
     "text": [
      "      index     series_id  night  event      step                 timestamp\n",
      "0         0  038441c925bb      1  onset    4992.0  2018-08-14T22:26:00-0400\n",
      "1         2  038441c925bb      2  onset   20244.0  2018-08-15T19:37:00-0400\n",
      "2         4  038441c925bb      3  onset   39996.0  2018-08-16T23:03:00-0400\n",
      "3         6  038441c925bb      4  onset   57240.0  2018-08-17T23:00:00-0400\n",
      "4         8  038441c925bb      5  onset       NaN                       NaN\n",
      "...     ...           ...    ...    ...       ...                       ...\n",
      "7249  14498  fe90110788d2     31  onset  522852.0  2017-09-03T23:41:00-0400\n",
      "7250  14500  fe90110788d2     32  onset  538956.0  2017-09-04T22:03:00-0400\n",
      "7251  14502  fe90110788d2     33  onset  556560.0  2017-09-05T22:30:00-0400\n",
      "7252  14504  fe90110788d2     34  onset  574620.0  2017-09-06T23:35:00-0400\n",
      "7253  14506  fe90110788d2     35  onset       NaN                       NaN\n",
      "\n",
      "[7254 rows x 6 columns]\n"
     ]
    }
   ],
   "source": [
    "import pandas as pd\n",
    "import matplotlib.pyplot as plt\n",
    "import  numpy as np\n",
    "from data_path import data_path\n",
    "dataPath = data_path.dataPath\n",
    "\n",
    "csv = pd.read_csv(dataPath + \"train_events.csv\")\n",
    "labels = csv[csv[\"event\"] == \"onset\"]\n",
    "labels = labels.reset_index()\n",
    "\n",
    "numSteps = (24 * 60 * 60) // 5\n",
    "print(labels)"
   ]
  },
  {
   "cell_type": "code",
   "execution_count": 25,
   "metadata": {},
   "outputs": [],
   "source": [
    "def getTimesList():\n",
    "    lst = []\n",
    "    for hour in range(24):\n",
    "        for minute in range(60):\n",
    "            for second in range(0, 60, 5):\n",
    "                time = f'{hour:02}:{minute:02}:{second:02}'\n",
    "                lst.append(time)\n",
    "    return lst"
   ]
  },
  {
   "cell_type": "code",
   "execution_count": 26,
   "metadata": {},
   "outputs": [],
   "source": [
    "times = getTimesList()\n",
    "frequencies = []\n",
    "\n",
    "for i in range(len(times)):\n",
    "    frequencies.append(len(labels[labels['timestamp'].str.contains(times[i]) == True]))"
   ]
  },
  {
   "cell_type": "code",
   "execution_count": 27,
   "metadata": {},
   "outputs": [],
   "source": [
    "dict = {}\n",
    "\n",
    "frequenciesNew = []\n",
    "for i in range(len(frequencies) // 300):\n",
    "    s = sum(frequencies[i * 300 : (i + 1) * 300])\n",
    "    time = times[i * 300 + 150]\n",
    "    dict[time] = s"
   ]
  },
  {
   "cell_type": "code",
   "execution_count": 28,
   "metadata": {},
   "outputs": [
    {
     "data": {
      "text/plain": [
       "([0,\n",
       "  1,\n",
       "  2,\n",
       "  3,\n",
       "  4,\n",
       "  5,\n",
       "  6,\n",
       "  7,\n",
       "  8,\n",
       "  9,\n",
       "  10,\n",
       "  11,\n",
       "  12,\n",
       "  13,\n",
       "  14,\n",
       "  15,\n",
       "  16,\n",
       "  17,\n",
       "  18,\n",
       "  19,\n",
       "  20,\n",
       "  21,\n",
       "  22,\n",
       "  23,\n",
       "  24,\n",
       "  25,\n",
       "  26,\n",
       "  27,\n",
       "  28,\n",
       "  29,\n",
       "  30,\n",
       "  31,\n",
       "  32,\n",
       "  33,\n",
       "  34,\n",
       "  35,\n",
       "  36,\n",
       "  37,\n",
       "  38,\n",
       "  39,\n",
       "  40,\n",
       "  41,\n",
       "  42,\n",
       "  43,\n",
       "  44,\n",
       "  45,\n",
       "  46,\n",
       "  47,\n",
       "  48,\n",
       "  49,\n",
       "  50,\n",
       "  51,\n",
       "  52,\n",
       "  53,\n",
       "  54,\n",
       "  55,\n",
       "  56],\n",
       " [Text(0, 0, '00:12:30'),\n",
       "  Text(1, 0, '00:37:30'),\n",
       "  Text(2, 0, '01:02:30'),\n",
       "  Text(3, 0, '01:27:30'),\n",
       "  Text(4, 0, '01:52:30'),\n",
       "  Text(5, 0, '02:17:30'),\n",
       "  Text(6, 0, '02:42:30'),\n",
       "  Text(7, 0, '03:07:30'),\n",
       "  Text(8, 0, '03:32:30'),\n",
       "  Text(9, 0, '03:57:30'),\n",
       "  Text(10, 0, '04:22:30'),\n",
       "  Text(11, 0, '04:47:30'),\n",
       "  Text(12, 0, '05:12:30'),\n",
       "  Text(13, 0, '05:37:30'),\n",
       "  Text(14, 0, '06:02:30'),\n",
       "  Text(15, 0, '06:27:30'),\n",
       "  Text(16, 0, '06:52:30'),\n",
       "  Text(17, 0, '07:17:30'),\n",
       "  Text(18, 0, '07:42:30'),\n",
       "  Text(19, 0, '08:07:30'),\n",
       "  Text(20, 0, '08:32:30'),\n",
       "  Text(21, 0, '08:57:30'),\n",
       "  Text(22, 0, '09:22:30'),\n",
       "  Text(23, 0, '09:47:30'),\n",
       "  Text(24, 0, '10:12:30'),\n",
       "  Text(25, 0, '10:37:30'),\n",
       "  Text(26, 0, '11:02:30'),\n",
       "  Text(27, 0, '11:27:30'),\n",
       "  Text(28, 0, '11:52:30'),\n",
       "  Text(29, 0, '12:17:30'),\n",
       "  Text(30, 0, '12:42:30'),\n",
       "  Text(31, 0, '13:07:30'),\n",
       "  Text(32, 0, '13:32:30'),\n",
       "  Text(33, 0, '13:57:30'),\n",
       "  Text(34, 0, '14:22:30'),\n",
       "  Text(35, 0, '14:47:30'),\n",
       "  Text(36, 0, '15:12:30'),\n",
       "  Text(37, 0, '15:37:30'),\n",
       "  Text(38, 0, '16:02:30'),\n",
       "  Text(39, 0, '16:27:30'),\n",
       "  Text(40, 0, '16:52:30'),\n",
       "  Text(41, 0, '17:17:30'),\n",
       "  Text(42, 0, '17:42:30'),\n",
       "  Text(43, 0, '18:07:30'),\n",
       "  Text(44, 0, '18:32:30'),\n",
       "  Text(45, 0, '18:57:30'),\n",
       "  Text(46, 0, '19:22:30'),\n",
       "  Text(47, 0, '19:47:30'),\n",
       "  Text(48, 0, '20:12:30'),\n",
       "  Text(49, 0, '20:37:30'),\n",
       "  Text(50, 0, '21:02:30'),\n",
       "  Text(51, 0, '21:27:30'),\n",
       "  Text(52, 0, '21:52:30'),\n",
       "  Text(53, 0, '22:17:30'),\n",
       "  Text(54, 0, '22:42:30'),\n",
       "  Text(55, 0, '23:07:30'),\n",
       "  Text(56, 0, '23:32:30')])"
      ]
     },
     "execution_count": 28,
     "metadata": {},
     "output_type": "execute_result"
    },
    {
     "data": {
      "image/png": "[encoded data removed]",
      "text/plain": [
       "<Figure size 2500x500 with 1 Axes>"
      ]
     },
     "metadata": {},
     "output_type": "display_data"
    }
   ],
   "source": [
    "plt.figure(figsize=(25, 5))\n",
    "plt.bar(dict.keys(), dict.values(), color='g')\n",
    "plt.xticks(rotation='vertical')"
   ]
  }
 ],
 "metadata": {
  "kernelspec": {
   "display_name": "base",
   "language": "python",
   "name": "python3"
  },
  "language_info": {
   "codemirror_mode": {
    "name": "ipython",
    "version": 3
   },
   "file_extension": ".py",
   "mimetype": "text/x-python",
   "name": "python",
   "nbconvert_exporter": "python",
   "pygments_lexer": "ipython3",
   "version": "3.11.4"
  }
 },
 "nbformat": 4,
 "nbformat_minor": 2
}
