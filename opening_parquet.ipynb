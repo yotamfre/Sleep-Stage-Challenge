{
 "cells": [
  {
   "cell_type": "code",
   "execution_count": 5,
   "metadata": {},
   "outputs": [
    {
     "name": "stdout",
     "output_type": "stream",
     "text": [
      "              series_id    step                 timestamp     anglez    enmo\n",
      "0          038441c925bb       0  2018-08-14T15:30:00-0400   2.636700  0.0217\n",
      "1          038441c925bb       1  2018-08-14T15:30:05-0400   2.636800  0.0215\n",
      "2          038441c925bb       2  2018-08-14T15:30:10-0400   2.637000  0.0216\n",
      "3          038441c925bb       3  2018-08-14T15:30:15-0400   2.636800  0.0213\n",
      "4          038441c925bb       4  2018-08-14T15:30:20-0400   2.636800  0.0215\n",
      "...                 ...     ...                       ...        ...     ...\n",
      "127946335  fe90110788d2  592375  2017-09-08T00:14:35-0400 -27.277500  0.0204\n",
      "127946336  fe90110788d2  592376  2017-09-08T00:14:40-0400 -27.032499  0.0233\n",
      "127946337  fe90110788d2  592377  2017-09-08T00:14:45-0400 -26.841200  0.0202\n",
      "127946338  fe90110788d2  592378  2017-09-08T00:14:50-0400 -26.723900  0.0199\n",
      "127946339  fe90110788d2  592379  2017-09-08T00:14:55-0400 -31.521601  0.0205\n",
      "\n",
      "[127946340 rows x 5 columns]\n"
     ]
    }
   ],
   "source": [
    "import pandas as pd\n",
    "data = pd.read_parquet('data/train_series.parquet')\n",
    "print(data)"
   ]
  },
  {
   "cell_type": "code",
   "execution_count": null,
   "metadata": {},
   "outputs": [],
   "source": [
    "data = pd.read_csv('data/train_series.parquet')"
   ]
  },
  {
   "cell_type": "code",
   "execution_count": 7,
   "metadata": {},
   "outputs": [
    {
     "name": "stdout",
     "output_type": "stream",
     "text": [
      "              series_id    step                 timestamp     anglez    enmo\n",
      "127353960  fe90110788d2       0  2017-08-04T17:30:00-0400 -27.707001  0.0298\n",
      "127353961  fe90110788d2       1  2017-08-04T17:30:05-0400 -33.867500  0.0488\n",
      "127353962  fe90110788d2       2  2017-08-04T17:30:10-0400 -15.475000  0.1077\n",
      "127353963  fe90110788d2       3  2017-08-04T17:30:15-0400 -73.656197  0.0530\n",
      "127353964  fe90110788d2       4  2017-08-04T17:30:20-0400 -53.152901  0.0601\n",
      "...                 ...     ...                       ...        ...     ...\n",
      "127946335  fe90110788d2  592375  2017-09-08T00:14:35-0400 -27.277500  0.0204\n",
      "127946336  fe90110788d2  592376  2017-09-08T00:14:40-0400 -27.032499  0.0233\n",
      "127946337  fe90110788d2  592377  2017-09-08T00:14:45-0400 -26.841200  0.0202\n",
      "127946338  fe90110788d2  592378  2017-09-08T00:14:50-0400 -26.723900  0.0199\n",
      "127946339  fe90110788d2  592379  2017-09-08T00:14:55-0400 -31.521601  0.0205\n",
      "\n",
      "[592380 rows x 5 columns]\n"
     ]
    }
   ],
   "source": [
    "newData = data[data['series_id'] == 'fe90110788d2']\n",
    "print(newData)"
   ]
  }
 ],
 "metadata": {
  "kernelspec": {
   "display_name": "base",
   "language": "python",
   "name": "python3"
  },
  "language_info": {
   "codemirror_mode": {
    "name": "ipython",
    "version": 3
   },
   "file_extension": ".py",
   "mimetype": "text/x-python",
   "name": "python",
   "nbconvert_exporter": "python",
   "pygments_lexer": "ipython3",
   "version": "3.11.4"
  }
 },
 "nbformat": 4,
 "nbformat_minor": 2
}
