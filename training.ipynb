{
 "cells": [
  {
   "cell_type": "code",
   "execution_count": 76,
   "metadata": {},
   "outputs": [],
   "source": [
    "import numpy as np\n",
    "import torch\n",
    "import torch.nn as nn\n",
    "\n",
    "features = np.load('batched_data\\\\features.npy')\n",
    "labels = np.load('batched_data\\\\labels.npy')"
   ]
  },
  {
   "cell_type": "code",
   "execution_count": 77,
   "metadata": {},
   "outputs": [
    {
     "name": "stdout",
     "output_type": "stream",
     "text": [
      "torch.Size([6971, 5760, 2])\n",
      "torch.Size([6971])\n"
     ]
    }
   ],
   "source": [
    "features = torch.tensor(features).transpose(-1,-2)\n",
    "labels = torch.tensor(labels)\n",
    "\n",
    "print(features.shape)\n",
    "print(labels.shape)"
   ]
  },
  {
   "cell_type": "code",
   "execution_count": 78,
   "metadata": {},
   "outputs": [
    {
     "name": "stdout",
     "output_type": "stream",
     "text": [
      "torch.Size([6971, 5760])\n",
      "tensor(5670., dtype=torch.float64)\n"
     ]
    }
   ],
   "source": [
    "y = torch.zeros((labels.shape[0], 5760))\n",
    "\n",
    "for i in range(len(labels)):\n",
    "    y[i][int(labels[i])] = 1.0\n",
    "\n",
    "print(y.shape)\n",
    "print(labels[0])"
   ]
  },
  {
   "cell_type": "code",
   "execution_count": 79,
   "metadata": {},
   "outputs": [],
   "source": [
    "class model(nn.Module):\n",
    "    def __init__(self, input_size, hidden_size):\n",
    "        super(model, self).__init__()\n",
    "        self.lstm = nn.LSTM(input_size, hidden_size, batch_first=True)\n",
    "        self.softMax = nn.LogSoftmax(dim=-1)\n",
    "\n",
    "    def forward(self, x):\n",
    "        x, _ = self.lstm(x)\n",
    "        x = self.softMax(x)\n",
    "        return x\n"
   ]
  },
  {
   "cell_type": "code",
   "execution_count": 80,
   "metadata": {},
   "outputs": [],
   "source": [
    "from torch import optim\n",
    "\n",
    "inputSize = 2\n",
    "hiddenSize = 1\n",
    "\n",
    "lstm = model(inputSize, hiddenSize)\n",
    "lossFunction = nn.CrossEntropyLoss()\n",
    "optim = optim.Adam(lstm.parameters(), lr = 1e-3)\n"
   ]
  },
  {
   "cell_type": "code",
   "execution_count": 81,
   "metadata": {},
   "outputs": [
    {
     "data": {
      "image/png": "[encoded data removed]",
      "text/plain": [
       "<Figure size 640x480 with 1 Axes>"
      ]
     },
     "metadata": {},
     "output_type": "display_data"
    }
   ],
   "source": [
    "from matplotlib import pyplot as plt\n",
    "\n",
    "batchSize = 300\n",
    "numIters = 10\n",
    "epochs = 100\n",
    "\n",
    "for i in range(0, numIters * batchSize, batchSize):\n",
    "    batch = features[i:i+batchSize]\n",
    "    batchedLabels = y[i:i+batchSize].double()\n",
    "\n",
    "    for _ in range(epochs):\n",
    "        out = lstm(batch).squeeze()\n",
    "    \n",
    "        loss = lossFunction(out, batchedLabels)\n",
    "        \n",
    "        optim.zero_grad()\n",
    "\n",
    "        loss.backward()\n",
    "        optim.step()\n",
    "        plt.scatter(i, loss.detach().numpy(), color=\"b\")\n"
   ]
  }
 ],
 "metadata": {
  "kernelspec": {
   "display_name": "base",
   "language": "python",
   "name": "python3"
  },
  "language_info": {
   "codemirror_mode": {
    "name": "ipython",
    "version": 3
   },
   "file_extension": ".py",
   "mimetype": "text/x-python",
   "name": "python",
   "nbconvert_exporter": "python",
   "pygments_lexer": "ipython3",
   "version": "3.11.4"
  }
 },
 "nbformat": 4,
 "nbformat_minor": 2
}
