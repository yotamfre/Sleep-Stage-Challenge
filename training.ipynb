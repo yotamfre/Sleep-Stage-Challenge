{
 "cells": [
  {
   "cell_type": "code",
   "execution_count": 1,
   "metadata": {},
   "outputs": [],
   "source": [
    "import torch\n",
    "import numpy as np\n",
    "import torch.nn as nn\n",
    "\n",
    "if torch.cuda.is_available(): \n",
    " dev = \"cuda:0\" \n",
    "else: \n",
    " dev = \"cpu\" \n",
    "device = torch.device(dev) "
   ]
  },
  {
   "cell_type": "code",
   "execution_count": 2,
   "metadata": {},
   "outputs": [],
   "source": [
    "features = torch.load('batched_data\\\\features').to(device).to(torch.float32)\n",
    "labels = torch.load('batched_data\\\\labels').to(device).to(torch.float32)"
   ]
  },
  {
   "cell_type": "code",
   "execution_count": 3,
   "metadata": {},
   "outputs": [
    {
     "name": "stdout",
     "output_type": "stream",
     "text": [
      "torch.Size([6977, 17280, 2])\n",
      "torch.Size([6977, 17280])\n"
     ]
    }
   ],
   "source": [
    "print(features.shape)\n",
    "print(labels.shape)"
   ]
  },
  {
   "cell_type": "code",
   "execution_count": 4,
   "metadata": {},
   "outputs": [],
   "source": [
    "class model(nn.Module):\n",
    "    def __init__(self, input_size, hidden_size):\n",
    "        super(model, self).__init__()\n",
    "        self.lstm = nn.LSTM(input_size, hidden_size, num_layers=1, \n",
    "                            bias=True, batch_first=True, dropout=0.0, \n",
    "                            bidirectional=False, proj_size=0, device=device, \n",
    "                            dtype=None)\n",
    "        \n",
    "        self.linear = nn.Linear(hidden_size, 1)\n",
    "        self.softMax = nn.LogSoftmax(dim=1)\n",
    "\n",
    "        self.series_length = 17280\n",
    "\n",
    "    def forward(self, x):\n",
    "        x, _ = self.lstm(x)\n",
    "\n",
    "        x = self.stack(x)\n",
    "        x = self.linear(x)\n",
    "        x = self.unstack(x)\n",
    "\n",
    "        x = self.softMax(x)\n",
    "        return x\n",
    "\n",
    "    def stack(self, x):\n",
    "        x = x.reshape(x.shape[0] * self.series_length, x.shape[2])\n",
    "        return x\n",
    "    \n",
    "    def unstack(self, x):\n",
    "        x = x.reshape(x.shape[0] // self.series_length, self.series_length)\n",
    "        return x"
   ]
  },
  {
   "cell_type": "code",
   "execution_count": 5,
   "metadata": {},
   "outputs": [],
   "source": [
    "from torch import optim\n",
    "\n",
    "inputSize = 2\n",
    "hiddenSize = 4\n",
    "\n",
    "lstm = model(inputSize, hiddenSize).to(device)\n",
    "lossFunction = nn.MSELoss()\n",
    "optimizer = optim.Adam(lstm.parameters(), lr = 1e-3)\n"
   ]
  },
  {
   "cell_type": "code",
   "execution_count": 6,
   "metadata": {},
   "outputs": [
    {
     "name": "stdout",
     "output_type": "stream",
     "text": [
      "epoch:  1  loss:  9423.26887512207\n",
      "epoch:  2  loss:  9409.760986328125\n",
      "epoch:  3  loss:  9412.737121582031\n",
      "epoch:  4  loss:  9413.938888549805\n",
      "epoch:  5  loss:  9411.96688079834\n",
      "epoch:  6  loss:  9411.318214416504\n",
      "epoch:  7  loss:  9409.678260803223\n",
      "epoch:  8  loss:  9409.227699279785\n"
     ]
    },
    {
     "data": {
      "image/png": "[encoded data removed]",
      "text/plain": [
       "<Figure size 640x480 with 1 Axes>"
      ]
     },
     "metadata": {},
     "output_type": "display_data"
    }
   ],
   "source": [
    "from matplotlib import pyplot as plt\n",
    "from torch.utils.data import DataLoader, TensorDataset\n",
    "\n",
    "batch_size = 75\n",
    "epochs = 8\n",
    "\n",
    "train_dataset = TensorDataset(features, labels)\n",
    "train_dataloader = DataLoader(train_dataset, batch_size=batch_size, shuffle=True) \n",
    "\n",
    "for i in range(epochs):\n",
    "    runningLoss = 0.0\n",
    "    for x, y in train_dataloader:\n",
    "        out = lstm(x)\n",
    "    \n",
    "        loss = lossFunction(out, y)\n",
    "        \n",
    "        optimizer.zero_grad()\n",
    "\n",
    "        loss.backward()\n",
    "        optimizer.step()\n",
    "\n",
    "        runningLoss += loss.detach().cpu().numpy()\n",
    "\n",
    "    print(\"epoch: \", i + 1, \" loss: \", runningLoss)\n",
    "    plt.scatter(i + 1, runningLoss, color=\"b\")\n",
    "    \n"
   ]
  }
 ],
 "metadata": {
  "kernelspec": {
   "display_name": "base",
   "language": "python",
   "name": "python3"
  },
  "language_info": {
   "codemirror_mode": {
    "name": "ipython",
    "version": 3
   },
   "file_extension": ".py",
   "mimetype": "text/x-python",
   "name": "python",
   "nbconvert_exporter": "python",
   "pygments_lexer": "ipython3",
   "version": "3.11.4"
  }
 },
 "nbformat": 4,
 "nbformat_minor": 2
}
