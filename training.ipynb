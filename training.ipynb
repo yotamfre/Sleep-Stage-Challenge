{
 "cells": [
  {
   "cell_type": "code",
   "execution_count": 22,
   "metadata": {},
   "outputs": [],
   "source": [
    "import torch\n",
    "import numpy as np\n",
    "import torch.nn as nn\n",
    "\n",
    "if torch.cuda.is_available(): \n",
    " dev = \"cuda:0\" \n",
    "else: \n",
    " dev = \"cpu\" \n",
    "device = torch.device(dev) "
   ]
  },
  {
   "cell_type": "code",
   "execution_count": 23,
   "metadata": {},
   "outputs": [],
   "source": [
    "features = np.load('batched_data\\\\features.npy')\n",
    "labels = np.load('batched_data\\\\labels.npy')"
   ]
  },
  {
   "cell_type": "code",
   "execution_count": 24,
   "metadata": {},
   "outputs": [
    {
     "name": "stdout",
     "output_type": "stream",
     "text": [
      "torch.Size([6971, 5760, 2])\n",
      "torch.Size([6971])\n"
     ]
    }
   ],
   "source": [
    "features = torch.tensor(features).transpose(-1,-2).to(device)\n",
    "labels = torch.tensor(labels).to(device)\n",
    "\n",
    "print(features.shape)\n",
    "print(labels.shape)"
   ]
  },
  {
   "cell_type": "code",
   "execution_count": 25,
   "metadata": {},
   "outputs": [
    {
     "name": "stdout",
     "output_type": "stream",
     "text": [
      "torch.Size([6971, 5760])\n",
      "tensor(1752., device='cuda:0', dtype=torch.float64)\n"
     ]
    }
   ],
   "source": [
    "y = torch.zeros((labels.shape[0], 5760))\n",
    "\n",
    "for i in range(len(labels)):\n",
    "    y[i][int(labels[i])] = 1.0\n",
    "\n",
    "print(y.shape)\n",
    "print(labels[0])"
   ]
  },
  {
   "cell_type": "code",
   "execution_count": 30,
   "metadata": {},
   "outputs": [],
   "source": [
    "class model(nn.Module):\n",
    "    def __init__(self, input_size, hidden_size):\n",
    "        super(model, self).__init__()\n",
    "        self.lstm = nn.LSTM(input_size, hidden_size, batch_first=True, proj_size=1)\n",
    "        self.softMax = nn.LogSoftmax(dim=1)\n",
    "\n",
    "    def forward(self, x):\n",
    "        x, _ = self.lstm(x)\n",
    "        x = self.softMax(x)\n",
    "        return x\n"
   ]
  },
  {
   "cell_type": "code",
   "execution_count": 31,
   "metadata": {},
   "outputs": [],
   "source": [
    "from torch import optim\n",
    "\n",
    "inputSize = 2\n",
    "hiddenSize = 20\n",
    "\n",
    "lstm = model(inputSize, hiddenSize).to(device)\n",
    "lossFunction = nn.CrossEntropyLoss()\n",
    "optim = optim.Adam(lstm.parameters(), lr = 1e-3)\n"
   ]
  },
  {
   "cell_type": "code",
   "execution_count": 32,
   "metadata": {},
   "outputs": [
    {
     "name": "stdout",
     "output_type": "stream",
     "text": [
      "epoch:  0.0  loss:  859.523363032341\n",
      "epoch:  1.0  loss:  863.005070564747\n",
      "epoch:  2.0  loss:  863.8131098532674\n",
      "epoch:  3.0  loss:  862.713004541397\n",
      "epoch:  4.0  loss:  861.9759542465208\n",
      "epoch:  5.0  loss:  849.5917947745323\n",
      "epoch:  6.0  loss:  849.826484419107\n",
      "epoch:  7.0  loss:  860.6964617943763\n",
      "epoch:  8.0  loss:  860.9952272582055\n",
      "epoch:  9.0  loss:  862.9438757872583\n"
     ]
    },
    {
     "data": {
      "image/png": "[encoded data removed]",
      "text/plain": [
       "<Figure size 640x480 with 1 Axes>"
      ]
     },
     "metadata": {},
     "output_type": "display_data"
    }
   ],
   "source": [
    "from matplotlib import pyplot as plt\n",
    "\n",
    "batchSize = 200\n",
    "numIters = 100\n",
    "epochs = 10\n",
    "\n",
    "for i in range(0, epochs * batchSize, batchSize):\n",
    "    runningLoss = 0.0\n",
    "\n",
    "    batch = features[i:i+batchSize].to(device)\n",
    "    batchedLabels = y[i:i+batchSize].double().to(device)\n",
    "\n",
    "    for _ in range(numIters):\n",
    "        out = lstm(batch).squeeze()\n",
    "    \n",
    "        loss = lossFunction(out, batchedLabels)\n",
    "        \n",
    "        optim.zero_grad()\n",
    "\n",
    "        loss.backward()\n",
    "        optim.step()\n",
    "\n",
    "        runningLoss += loss.detach().cpu().numpy()\n",
    "\n",
    "    print(\"epoch: \", i/batchSize, \" loss: \", runningLoss)\n",
    "    plt.scatter(i, runningLoss, color=\"b\")\n"
   ]
  },
  {
   "cell_type": "code",
   "execution_count": null,
   "metadata": {},
   "outputs": [],
   "source": []
  },
  {
   "cell_type": "code",
   "execution_count": 7,
   "metadata": {},
   "outputs": [],
   "source": [
    "class model(nn.Module):\n",
    "    def __init__(self, input_size, hidden_size):\n",
    "        super(model, self).__init__()\n",
    "        self.encoder = nn.TransformerEncoderLayer(input_size, nhead=2, batch_first=True, dim_feedforward=hidden_size)\n",
    "        self.softMax = nn.LogSoftmax(dim=-1)\n",
    "\n",
    "    def forward(self, x):\n",
    "        x, _ = self.encoder(x)\n",
    "        x = self.softMax(x)\n",
    "        return x\n"
   ]
  }
 ],
 "metadata": {
  "kernelspec": {
   "display_name": "base",
   "language": "python",
   "name": "python3"
  },
  "language_info": {
   "codemirror_mode": {
    "name": "ipython",
    "version": 3
   },
   "file_extension": ".py",
   "mimetype": "text/x-python",
   "name": "python",
   "nbconvert_exporter": "python",
   "pygments_lexer": "ipython3",
   "version": "3.11.4"
  }
 },
 "nbformat": 4,
 "nbformat_minor": 2
}
